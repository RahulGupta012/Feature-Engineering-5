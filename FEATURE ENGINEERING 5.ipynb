{
 "cells": [
  {
   "cell_type": "markdown",
   "id": "121f4927-f86e-41ce-9e08-981bca3eb387",
   "metadata": {},
   "source": [
    "# FEATURE ENGINEERING 05"
   ]
  },
  {
   "cell_type": "markdown",
   "id": "15611a95-f672-427a-85f0-9cd2de4036db",
   "metadata": {},
   "source": [
    "________________________________________________________________________________________"
   ]
  },
  {
   "cell_type": "markdown",
   "id": "de0c00f3-4d75-4e43-961c-acc3f33c0bb2",
   "metadata": {},
   "source": [
    "# Q1. Pearson correlation coefficient is a measure of the linear relationship between two variables. Suppose you have collected data on the amount of time students spend studying for an exam and their final exam scores. Calculate the Pearson correlation coefficient between these two variables and interpret the result."
   ]
  },
  {
   "cell_type": "code",
   "execution_count": 6,
   "id": "399a5308-c944-4a92-8a03-30d3ec724a4b",
   "metadata": {},
   "outputs": [
    {
     "data": {
      "text/html": [
       "<div>\n",
       "<style scoped>\n",
       "    .dataframe tbody tr th:only-of-type {\n",
       "        vertical-align: middle;\n",
       "    }\n",
       "\n",
       "    .dataframe tbody tr th {\n",
       "        vertical-align: top;\n",
       "    }\n",
       "\n",
       "    .dataframe thead th {\n",
       "        text-align: right;\n",
       "    }\n",
       "</style>\n",
       "<table border=\"1\" class=\"dataframe\">\n",
       "  <thead>\n",
       "    <tr style=\"text-align: right;\">\n",
       "      <th></th>\n",
       "      <th>study_time</th>\n",
       "      <th>final_exam_score</th>\n",
       "    </tr>\n",
       "  </thead>\n",
       "  <tbody>\n",
       "    <tr>\n",
       "      <th>study_time</th>\n",
       "      <td>1.000000</td>\n",
       "      <td>0.955008</td>\n",
       "    </tr>\n",
       "    <tr>\n",
       "      <th>final_exam_score</th>\n",
       "      <td>0.955008</td>\n",
       "      <td>1.000000</td>\n",
       "    </tr>\n",
       "  </tbody>\n",
       "</table>\n",
       "</div>"
      ],
      "text/plain": [
       "                  study_time  final_exam_score\n",
       "study_time          1.000000          0.955008\n",
       "final_exam_score    0.955008          1.000000"
      ]
     },
     "execution_count": 6,
     "metadata": {},
     "output_type": "execute_result"
    }
   ],
   "source": [
    "#Creating a dataset as given data\n",
    "import pandas as pd\n",
    "df=pd.DataFrame({'study_time': [12,4,7,9,3,2,6], 'final_exam_score':[96,50,72,88,23,18,66]})\n",
    "\n",
    "#there is a funnction in pandas, for finding the pearson correlation between two variables\n",
    "\n",
    "df.corr(method= 'pearson')\n"
   ]
  },
  {
   "cell_type": "markdown",
   "id": "144e5aa2-9ce1-4884-b332-1e80a20c9901",
   "metadata": {},
   "source": [
    "# Q2. Spearman's rank correlation is a measure of the monotonic relationship between two variables. Suppose you have collected data on the amount of sleep individuals get each night and their overall job satisfaction level on a scale of 1 to 10. Calculate the Spearman's rank correlation between these two variables and interpret the result."
   ]
  },
  {
   "cell_type": "code",
   "execution_count": 13,
   "id": "1591f00e-7ad5-42b5-b8f8-a2f9e62306c4",
   "metadata": {},
   "outputs": [
    {
     "data": {
      "text/html": [
       "<div>\n",
       "<style scoped>\n",
       "    .dataframe tbody tr th:only-of-type {\n",
       "        vertical-align: middle;\n",
       "    }\n",
       "\n",
       "    .dataframe tbody tr th {\n",
       "        vertical-align: top;\n",
       "    }\n",
       "\n",
       "    .dataframe thead th {\n",
       "        text-align: right;\n",
       "    }\n",
       "</style>\n",
       "<table border=\"1\" class=\"dataframe\">\n",
       "  <thead>\n",
       "    <tr style=\"text-align: right;\">\n",
       "      <th></th>\n",
       "      <th>amount_of_sleep</th>\n",
       "      <th>job_satisfaction</th>\n",
       "    </tr>\n",
       "  </thead>\n",
       "  <tbody>\n",
       "    <tr>\n",
       "      <th>amount_of_sleep</th>\n",
       "      <td>1.0</td>\n",
       "      <td>0.0</td>\n",
       "    </tr>\n",
       "    <tr>\n",
       "      <th>job_satisfaction</th>\n",
       "      <td>0.0</td>\n",
       "      <td>1.0</td>\n",
       "    </tr>\n",
       "  </tbody>\n",
       "</table>\n",
       "</div>"
      ],
      "text/plain": [
       "                  amount_of_sleep  job_satisfaction\n",
       "amount_of_sleep               1.0               0.0\n",
       "job_satisfaction              0.0               1.0"
      ]
     },
     "execution_count": 13,
     "metadata": {},
     "output_type": "execute_result"
    }
   ],
   "source": [
    "# Creating data set according to the given information\n",
    "\n",
    "import pandas as pd\n",
    "df= pd.DataFrame({'amount_of_sleep': [8,10,6,7,9,4,5], 'job_satisfaction':[9,3,8,7,2,4,1]})\n",
    "\n",
    "#there is a funnction in pandas, for finding the spearman correlation between two variables\n",
    "df.corr(method= 'spearman')\n"
   ]
  },
  {
   "cell_type": "markdown",
   "id": "55e4b399-ded1-486e-9ff6-362a227b0fcf",
   "metadata": {},
   "source": [
    "#   Suppose you are conducting a study to examine the relationship between the number of hours of exercise per week and body mass index (BMI) in a sample of adults. You collected data on both variables for 50 participants. Calculate the Pearson correlation coefficient and the Spearman's rank correlation between these two variables and compare the results."
   ]
  },
  {
   "cell_type": "code",
   "execution_count": 28,
   "id": "a0f7d5be-da88-4d14-987e-4186d9527eb4",
   "metadata": {},
   "outputs": [
    {
     "name": "stdout",
     "output_type": "stream",
     "text": [
      "it is pearson correlation between number of hours of excersie per week vs BMI BODY mass index\n"
     ]
    },
    {
     "data": {
      "text/html": [
       "<div>\n",
       "<style scoped>\n",
       "    .dataframe tbody tr th:only-of-type {\n",
       "        vertical-align: middle;\n",
       "    }\n",
       "\n",
       "    .dataframe tbody tr th {\n",
       "        vertical-align: top;\n",
       "    }\n",
       "\n",
       "    .dataframe thead th {\n",
       "        text-align: right;\n",
       "    }\n",
       "</style>\n",
       "<table border=\"1\" class=\"dataframe\">\n",
       "  <thead>\n",
       "    <tr style=\"text-align: right;\">\n",
       "      <th></th>\n",
       "      <th>number_of_hours_of_exercise</th>\n",
       "      <th>BMI</th>\n",
       "    </tr>\n",
       "  </thead>\n",
       "  <tbody>\n",
       "    <tr>\n",
       "      <th>number_of_hours_of_exercise</th>\n",
       "      <td>1.000000</td>\n",
       "      <td>-0.156514</td>\n",
       "    </tr>\n",
       "    <tr>\n",
       "      <th>BMI</th>\n",
       "      <td>-0.156514</td>\n",
       "      <td>1.000000</td>\n",
       "    </tr>\n",
       "  </tbody>\n",
       "</table>\n",
       "</div>"
      ],
      "text/plain": [
       "                             number_of_hours_of_exercise       BMI\n",
       "number_of_hours_of_exercise                     1.000000 -0.156514\n",
       "BMI                                            -0.156514  1.000000"
      ]
     },
     "execution_count": 28,
     "metadata": {},
     "output_type": "execute_result"
    }
   ],
   "source": [
    "data= {'number_of_hours_of_exercise' :[24,14,21,10,16,18,28,12,22,12,23,33,12,16,18,14,7,9,12,15,12,34,12,3,33,23,12,15,\n",
    "                                23,17,18,19,12,13,14,16,17,23,12,23,22,11,10,13,22,14,17,10,11,11], \n",
    "'BMI':[50,55,33,46,43,89,98,76,45,56,47,48,49,56,43,56,78,78,90,100,44,56,89,98,76,78,79,97,76,56,58,97,96,90,88,23,66,\n",
    "       33,56,88,89,45,67,69,55,89,88,99,45,56]}\n",
    "\n",
    "# making the dataframe of giving data by the help of pandas libraray.\n",
    "\n",
    "import pandas as pd\n",
    "df=pd.DataFrame(data)\n",
    "\n",
    "#calculating the pearson correlation cofficient\n",
    "\n",
    "print('it is pearson correlation between number of hours of excersie per week vs BMI BODY mass index')\n",
    "\n",
    "df.corr(method= 'pearson') "
   ]
  },
  {
   "cell_type": "code",
   "execution_count": 29,
   "id": "3168e86f-e3bc-4727-976c-805930f4b259",
   "metadata": {},
   "outputs": [
    {
     "data": {
      "text/html": [
       "<div>\n",
       "<style scoped>\n",
       "    .dataframe tbody tr th:only-of-type {\n",
       "        vertical-align: middle;\n",
       "    }\n",
       "\n",
       "    .dataframe tbody tr th {\n",
       "        vertical-align: top;\n",
       "    }\n",
       "\n",
       "    .dataframe thead th {\n",
       "        text-align: right;\n",
       "    }\n",
       "</style>\n",
       "<table border=\"1\" class=\"dataframe\">\n",
       "  <thead>\n",
       "    <tr style=\"text-align: right;\">\n",
       "      <th></th>\n",
       "      <th>number_of_hours_of_exercise</th>\n",
       "      <th>BMI</th>\n",
       "    </tr>\n",
       "  </thead>\n",
       "  <tbody>\n",
       "    <tr>\n",
       "      <th>number_of_hours_of_exercise</th>\n",
       "      <td>1.000000</td>\n",
       "      <td>-0.144111</td>\n",
       "    </tr>\n",
       "    <tr>\n",
       "      <th>BMI</th>\n",
       "      <td>-0.144111</td>\n",
       "      <td>1.000000</td>\n",
       "    </tr>\n",
       "  </tbody>\n",
       "</table>\n",
       "</div>"
      ],
      "text/plain": [
       "                             number_of_hours_of_exercise       BMI\n",
       "number_of_hours_of_exercise                     1.000000 -0.144111\n",
       "BMI                                            -0.144111  1.000000"
      ]
     },
     "execution_count": 29,
     "metadata": {},
     "output_type": "execute_result"
    }
   ],
   "source": [
    "#calculating the spearman correlation \n",
    "df.corr(method= 'spearman')"
   ]
  },
  {
   "cell_type": "markdown",
   "id": "d925a4c4-c404-4cd4-b9f1-609be80c242d",
   "metadata": {},
   "source": [
    "# A survey was conducted to examine the relationship between age and preference for a particular brand of soft drink. The survey results are shown below:"
   ]
  },
  {
   "cell_type": "code",
   "execution_count": 34,
   "id": "4a349811-de1b-4e06-95e5-b32888b82874",
   "metadata": {},
   "outputs": [
    {
     "data": {
      "text/html": [
       "<div>\n",
       "<style scoped>\n",
       "    .dataframe tbody tr th:only-of-type {\n",
       "        vertical-align: middle;\n",
       "    }\n",
       "\n",
       "    .dataframe tbody tr th {\n",
       "        vertical-align: top;\n",
       "    }\n",
       "\n",
       "    .dataframe thead th {\n",
       "        text-align: right;\n",
       "    }\n",
       "</style>\n",
       "<table border=\"1\" class=\"dataframe\">\n",
       "  <thead>\n",
       "    <tr style=\"text-align: right;\">\n",
       "      <th></th>\n",
       "      <th>age</th>\n",
       "      <th>Soft_drink_preference</th>\n",
       "    </tr>\n",
       "  </thead>\n",
       "  <tbody>\n",
       "    <tr>\n",
       "      <th>0</th>\n",
       "      <td>25</td>\n",
       "      <td>cock</td>\n",
       "    </tr>\n",
       "    <tr>\n",
       "      <th>1</th>\n",
       "      <td>42</td>\n",
       "      <td>pepsi</td>\n",
       "    </tr>\n",
       "    <tr>\n",
       "      <th>2</th>\n",
       "      <td>37</td>\n",
       "      <td>mountain dew</td>\n",
       "    </tr>\n",
       "    <tr>\n",
       "      <th>3</th>\n",
       "      <td>19</td>\n",
       "      <td>cock</td>\n",
       "    </tr>\n",
       "    <tr>\n",
       "      <th>4</th>\n",
       "      <td>31</td>\n",
       "      <td>pepsi</td>\n",
       "    </tr>\n",
       "    <tr>\n",
       "      <th>5</th>\n",
       "      <td>28</td>\n",
       "      <td>cock</td>\n",
       "    </tr>\n",
       "  </tbody>\n",
       "</table>\n",
       "</div>"
      ],
      "text/plain": [
       "   age Soft_drink_preference\n",
       "0   25                  cock\n",
       "1   42                 pepsi\n",
       "2   37          mountain dew\n",
       "3   19                  cock\n",
       "4   31                 pepsi\n",
       "5   28                  cock"
      ]
     },
     "execution_count": 34,
     "metadata": {},
     "output_type": "execute_result"
    }
   ],
   "source": [
    "import pandas as pd\n",
    "df=pd.DataFrame({'age': [25,42,37,19,31,28] ,\n",
    "                 'Soft_drink_preference': ['cock','pepsi','mountain dew', 'cock', 'pepsi', 'cock']})\n",
    "df"
   ]
  },
  {
   "cell_type": "code",
   "execution_count": 46,
   "id": "7c6784e1-7f6e-455d-9356-59f40d2d3397",
   "metadata": {},
   "outputs": [],
   "source": [
    "# for examine the relationship between both of them we need to use a data encodng method,and target guided encoding is the \n",
    "#  best way to treat such type of opreations\n",
    "\n",
    "mean=df.groupby('Soft_drink_preference')['age'].mean().to_dict()"
   ]
  },
  {
   "cell_type": "code",
   "execution_count": 47,
   "id": "1ceb3a21-d800-4b6b-9d2b-2465e992a5d3",
   "metadata": {},
   "outputs": [],
   "source": [
    "df['encoded']= df['Soft_drink_preference'].map(mean)"
   ]
  },
  {
   "cell_type": "code",
   "execution_count": 49,
   "id": "94980a7c-2aa3-4373-8e1c-5356c05d3599",
   "metadata": {},
   "outputs": [
    {
     "data": {
      "text/html": [
       "<div>\n",
       "<style scoped>\n",
       "    .dataframe tbody tr th:only-of-type {\n",
       "        vertical-align: middle;\n",
       "    }\n",
       "\n",
       "    .dataframe tbody tr th {\n",
       "        vertical-align: top;\n",
       "    }\n",
       "\n",
       "    .dataframe thead th {\n",
       "        text-align: right;\n",
       "    }\n",
       "</style>\n",
       "<table border=\"1\" class=\"dataframe\">\n",
       "  <thead>\n",
       "    <tr style=\"text-align: right;\">\n",
       "      <th></th>\n",
       "      <th>age</th>\n",
       "      <th>Soft_drink_preference</th>\n",
       "      <th>encoded</th>\n",
       "    </tr>\n",
       "  </thead>\n",
       "  <tbody>\n",
       "    <tr>\n",
       "      <th>0</th>\n",
       "      <td>25</td>\n",
       "      <td>cock</td>\n",
       "      <td>24.0</td>\n",
       "    </tr>\n",
       "    <tr>\n",
       "      <th>1</th>\n",
       "      <td>42</td>\n",
       "      <td>pepsi</td>\n",
       "      <td>36.5</td>\n",
       "    </tr>\n",
       "    <tr>\n",
       "      <th>2</th>\n",
       "      <td>37</td>\n",
       "      <td>mountain dew</td>\n",
       "      <td>37.0</td>\n",
       "    </tr>\n",
       "    <tr>\n",
       "      <th>3</th>\n",
       "      <td>19</td>\n",
       "      <td>cock</td>\n",
       "      <td>24.0</td>\n",
       "    </tr>\n",
       "    <tr>\n",
       "      <th>4</th>\n",
       "      <td>31</td>\n",
       "      <td>pepsi</td>\n",
       "      <td>36.5</td>\n",
       "    </tr>\n",
       "    <tr>\n",
       "      <th>5</th>\n",
       "      <td>28</td>\n",
       "      <td>cock</td>\n",
       "      <td>24.0</td>\n",
       "    </tr>\n",
       "  </tbody>\n",
       "</table>\n",
       "</div>"
      ],
      "text/plain": [
       "   age Soft_drink_preference  encoded\n",
       "0   25                  cock     24.0\n",
       "1   42                 pepsi     36.5\n",
       "2   37          mountain dew     37.0\n",
       "3   19                  cock     24.0\n",
       "4   31                 pepsi     36.5\n",
       "5   28                  cock     24.0"
      ]
     },
     "execution_count": 49,
     "metadata": {},
     "output_type": "execute_result"
    }
   ],
   "source": [
    "df"
   ]
  },
  {
   "cell_type": "code",
   "execution_count": 51,
   "id": "b1e0b397-9c13-4f36-9f55-e3effd2ede7f",
   "metadata": {},
   "outputs": [
    {
     "name": "stderr",
     "output_type": "stream",
     "text": [
      "/tmp/ipykernel_180/755516755.py:3: FutureWarning: The default value of numeric_only in DataFrame.corr is deprecated. In a future version, it will default to False. Select only valid columns or specify the value of numeric_only to silence this warning.\n",
      "  df.corr(method= 'pearson')\n"
     ]
    },
    {
     "data": {
      "text/html": [
       "<div>\n",
       "<style scoped>\n",
       "    .dataframe tbody tr th:only-of-type {\n",
       "        vertical-align: middle;\n",
       "    }\n",
       "\n",
       "    .dataframe tbody tr th {\n",
       "        vertical-align: top;\n",
       "    }\n",
       "\n",
       "    .dataframe thead th {\n",
       "        text-align: right;\n",
       "    }\n",
       "</style>\n",
       "<table border=\"1\" class=\"dataframe\">\n",
       "  <thead>\n",
       "    <tr style=\"text-align: right;\">\n",
       "      <th></th>\n",
       "      <th>age</th>\n",
       "      <th>encoded</th>\n",
       "    </tr>\n",
       "  </thead>\n",
       "  <tbody>\n",
       "    <tr>\n",
       "      <th>age</th>\n",
       "      <td>1.00000</td>\n",
       "      <td>0.83753</td>\n",
       "    </tr>\n",
       "    <tr>\n",
       "      <th>encoded</th>\n",
       "      <td>0.83753</td>\n",
       "      <td>1.00000</td>\n",
       "    </tr>\n",
       "  </tbody>\n",
       "</table>\n",
       "</div>"
      ],
      "text/plain": [
       "             age  encoded\n",
       "age      1.00000  0.83753\n",
       "encoded  0.83753  1.00000"
      ]
     },
     "execution_count": 51,
     "metadata": {},
     "output_type": "execute_result"
    }
   ],
   "source": [
    "# new we get the coveriance between age and encoded value , and get the relationship between them\n",
    "\n",
    "df.corr(method= 'pearson')"
   ]
  },
  {
   "cell_type": "markdown",
   "id": "6c8189ca-6932-4430-8e56-aa81f2855d7e",
   "metadata": {},
   "source": [
    "# Q6. A company is interested in examining the relationship between the number of sales calls made per day and the number of sales made per week. The company collected data on both variables from a sample of 20 sales representatives. Calculate the Pearson correlation coefficient between these two variables."
   ]
  },
  {
   "cell_type": "code",
   "execution_count": 61,
   "id": "698eb03b-808b-4970-a6fa-315fecb1bea8",
   "metadata": {},
   "outputs": [],
   "source": [
    "data= {'sales_per_day': [1233,2100,4300,5600,3300,2300,4500,6700,7800,4500,5900,4300,3000,4000,4500,6600,4500,4500,8900,7800],\n",
    "'sales_per_week': [88000,99000,67000,78000,98000,56000,78000,34555,89000,65000,34554,67000,69000,76000,88000,67000,78000,\n",
    "                   98000,78000,90000]}"
   ]
  },
  {
   "cell_type": "code",
   "execution_count": 62,
   "id": "cb80b4f9-aacb-48dd-9d02-6f7973099523",
   "metadata": {},
   "outputs": [
    {
     "data": {
      "text/html": [
       "<div>\n",
       "<style scoped>\n",
       "    .dataframe tbody tr th:only-of-type {\n",
       "        vertical-align: middle;\n",
       "    }\n",
       "\n",
       "    .dataframe tbody tr th {\n",
       "        vertical-align: top;\n",
       "    }\n",
       "\n",
       "    .dataframe thead th {\n",
       "        text-align: right;\n",
       "    }\n",
       "</style>\n",
       "<table border=\"1\" class=\"dataframe\">\n",
       "  <thead>\n",
       "    <tr style=\"text-align: right;\">\n",
       "      <th></th>\n",
       "      <th>sales_per_day</th>\n",
       "      <th>sales_per_week</th>\n",
       "    </tr>\n",
       "  </thead>\n",
       "  <tbody>\n",
       "    <tr>\n",
       "      <th>sales_per_day</th>\n",
       "      <td>1.000000</td>\n",
       "      <td>-0.176625</td>\n",
       "    </tr>\n",
       "    <tr>\n",
       "      <th>sales_per_week</th>\n",
       "      <td>-0.176625</td>\n",
       "      <td>1.000000</td>\n",
       "    </tr>\n",
       "  </tbody>\n",
       "</table>\n",
       "</div>"
      ],
      "text/plain": [
       "                sales_per_day  sales_per_week\n",
       "sales_per_day        1.000000       -0.176625\n",
       "sales_per_week      -0.176625        1.000000"
      ]
     },
     "execution_count": 62,
     "metadata": {},
     "output_type": "execute_result"
    }
   ],
   "source": [
    "import pandas as pd\n",
    "df=pd.DataFrame(data)\n",
    "\n",
    "df.corr() # by default corr() function is selecting the pearson method"
   ]
  },
  {
   "cell_type": "code",
   "execution_count": null,
   "id": "ddc7e66f-c95a-480a-989f-6a0c2bfa5146",
   "metadata": {},
   "outputs": [],
   "source": []
  },
  {
   "cell_type": "code",
   "execution_count": null,
   "id": "c8c0fa79-2aa2-46a1-a6c9-0ceb9ab1361e",
   "metadata": {},
   "outputs": [],
   "source": []
  }
 ],
 "metadata": {
  "kernelspec": {
   "display_name": "Python 3 (ipykernel)",
   "language": "python",
   "name": "python3"
  },
  "language_info": {
   "codemirror_mode": {
    "name": "ipython",
    "version": 3
   },
   "file_extension": ".py",
   "mimetype": "text/x-python",
   "name": "python",
   "nbconvert_exporter": "python",
   "pygments_lexer": "ipython3",
   "version": "3.10.8"
  }
 },
 "nbformat": 4,
 "nbformat_minor": 5
}
